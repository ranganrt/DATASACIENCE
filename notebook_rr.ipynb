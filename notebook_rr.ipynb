{
    "cells": [
        {
            "cell_type": "markdown",
            "metadata": {},
            "source": "# H1\n## H2\n### H3\n#### H4\n##### H5\n###### H6"
        },
        {
            "cell_type": "raw",
            "metadata": {},
            "source": "Emphasis, aka italics, with *asterisks* or _underscores_."
        },
        {
            "cell_type": "code",
            "execution_count": 3,
            "metadata": {
                "scrolled": true
            },
            "outputs": [
                {
                    "data": {
                        "text/html": "'MEAN AVERAGE VALUE '",
                        "text/latex": "'MEAN AVERAGE VALUE '",
                        "text/markdown": "'MEAN AVERAGE VALUE '",
                        "text/plain": "[1] \"MEAN AVERAGE VALUE \""
                    },
                    "metadata": {},
                    "output_type": "display_data"
                },
                {
                    "data": {
                        "text/html": "1017.56363636364",
                        "text/latex": "1017.56363636364",
                        "text/markdown": "1017.56363636364",
                        "text/plain": "[1] 1017.564"
                    },
                    "metadata": {},
                    "output_type": "display_data"
                },
                {
                    "data": {
                        "text/html": "'MEDIAN VALUE'",
                        "text/latex": "'MEDIAN VALUE'",
                        "text/markdown": "'MEDIAN VALUE'",
                        "text/plain": "[1] \"MEDIAN VALUE\""
                    },
                    "metadata": {},
                    "output_type": "display_data"
                },
                {
                    "data": {
                        "text/html": "7",
                        "text/latex": "7",
                        "text/markdown": "7",
                        "text/plain": "[1] 7"
                    },
                    "metadata": {},
                    "output_type": "display_data"
                }
            ],
            "source": "# Create a vector. \nx <- c(12,7,3,4.2,18,2,54,-21,8,-5,11111)\n\n# Find mean.\n\"MEAN AVERAGE VALUE \"\nmean(x)\nresult.mean <-  mean(x)\n\n\"MEDIAN VALUE\"\nmedian(x )\n\n# print(result.mean)"
        },
        {
            "cell_type": "code",
            "execution_count": null,
            "metadata": {},
            "outputs": [],
            "source": ""
        },
        {
            "cell_type": "code",
            "execution_count": null,
            "metadata": {},
            "outputs": [],
            "source": ""
        }
    ],
    "metadata": {
        "kernelspec": {
            "display_name": "R 3.6 with Spark",
            "language": "R",
            "name": "r"
        },
        "language_info": {
            "codemirror_mode": "r",
            "file_extension": ".r",
            "mimetype": "text/x-r-source",
            "name": "R",
            "pygments_lexer": "r",
            "version": "3.6.3"
        }
    },
    "nbformat": 4,
    "nbformat_minor": 1
}