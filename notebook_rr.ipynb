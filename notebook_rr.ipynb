{
    "cells": [
        {
            "metadata": {},
            "cell_type": "markdown",
            "source": "# My Jupyter Notebook on IBM Watson Studio- Ranga"
        },
        {
            "metadata": {},
            "cell_type": "markdown",
            "source": "<b>Ranga R.</b>\nData Architect\n"
        },
        {
            "metadata": {},
            "cell_type": "markdown",
            "source": "<i>I am interested in data science because Data tells many stories once explored properly with the right tools. Data science tools, techniques and methodologies enable the curious minds to explore the insights and find the right answers</i> "
        },
        {
            "metadata": {
                "scrolled": true
            },
            "cell_type": "code",
            "source": "# Create a vector. \nx <- c(12,7,3,4.2,18,2,54,-21,8,-5,11111)\n\n# Find mean.\n\"MEAN AVERAGE VALUE \"\nmean(x)\nresult.mean <-  mean(x)\n\n\"MEDIAN VALUE\"\nmedian(x )\n\n# print(result.mean)",
            "execution_count": 5,
            "outputs": [
                {
                    "output_type": "display_data",
                    "data": {
                        "text/plain": "[1] \"MEAN AVERAGE VALUE \"",
                        "text/latex": "'MEAN AVERAGE VALUE '",
                        "text/markdown": "'MEAN AVERAGE VALUE '",
                        "text/html": "'MEAN AVERAGE VALUE '"
                    },
                    "metadata": {}
                },
                {
                    "output_type": "display_data",
                    "data": {
                        "text/plain": "[1] 1017.564",
                        "text/latex": "1017.56363636364",
                        "text/markdown": "1017.56363636364",
                        "text/html": "1017.56363636364"
                    },
                    "metadata": {}
                },
                {
                    "output_type": "display_data",
                    "data": {
                        "text/plain": "[1] \"MEDIAN VALUE\"",
                        "text/latex": "'MEDIAN VALUE'",
                        "text/markdown": "'MEDIAN VALUE'",
                        "text/html": "'MEDIAN VALUE'"
                    },
                    "metadata": {}
                },
                {
                    "output_type": "display_data",
                    "data": {
                        "text/plain": "[1] 7",
                        "text/latex": "7",
                        "text/markdown": "7",
                        "text/html": "7"
                    },
                    "metadata": {}
                }
            ]
        },
        {
            "metadata": {},
            "cell_type": "code",
            "source": "",
            "execution_count": null,
            "outputs": []
        },
        {
            "metadata": {},
            "cell_type": "code",
            "source": "",
            "execution_count": null,
            "outputs": []
        }
    ],
    "metadata": {
        "kernelspec": {
            "name": "r",
            "display_name": "R 3.6 with Spark",
            "language": "R"
        },
        "language_info": {
            "mimetype": "text/x-r-source",
            "name": "R",
            "pygments_lexer": "r",
            "version": "3.6.3",
            "file_extension": ".r",
            "codemirror_mode": "r"
        }
    },
    "nbformat": 4,
    "nbformat_minor": 1
}