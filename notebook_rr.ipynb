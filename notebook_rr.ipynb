{
    "cells": [
        {
            "metadata": {},
            "cell_type": "markdown",
            "source": "# My Jupyter Notebook on IBM Watson Studio- Ranga"
        },
        {
            "metadata": {},
            "cell_type": "markdown",
            "source": "<b>Ranga R.</b>\nData Architect\n"
        },
        {
            "metadata": {},
            "cell_type": "markdown",
            "source": "<i>I am interested in data science because Data tells many stories once explored properly with the right tools. Data science tools, techniques and methodologies enable the curious minds to explore the insights and find the right answers</i> "
        },
        {
            "metadata": {},
            "cell_type": "markdown",
            "source": "### Important R Functions are evaluated and results are printed on an array\n"
        },
        {
            "metadata": {
                "scrolled": true
            },
            "cell_type": "code",
            "source": "# Create a vector. Ages of 20 persons\n\niAge <- c(12,7,3,24,32,   18,12,54,21,80,     15,33,26,75,64,    65,23,87,43,09 )\n\n# Find mean Age .\n\"MEAN or AVERAGE VALUE of Age\"\nmean(iAge)\n# result.mean <-  mean(iAge)\n\n\"MEDIAN VALUE of Age\"\nmedian( iAge )\n\n\"MINIMUM VALUE of Age\"\nprint(min(iAge))\n\n\n\"MAXIMUM VALUE of Age\"\nprint(max(iAge))\n\n",
            "execution_count": 12,
            "outputs": [
                {
                    "output_type": "display_data",
                    "data": {
                        "text/plain": "[1] \"MEAN or AVERAGE VALUE of Age\"",
                        "text/latex": "'MEAN or AVERAGE VALUE of Age'",
                        "text/markdown": "'MEAN or AVERAGE VALUE of Age'",
                        "text/html": "'MEAN or AVERAGE VALUE of Age'"
                    },
                    "metadata": {}
                },
                {
                    "output_type": "display_data",
                    "data": {
                        "text/plain": "[1] 35.15",
                        "text/latex": "35.15",
                        "text/markdown": "35.15",
                        "text/html": "35.15"
                    },
                    "metadata": {}
                },
                {
                    "output_type": "display_data",
                    "data": {
                        "text/plain": "[1] \"MEDIAN VALUE of Age\"",
                        "text/latex": "'MEDIAN VALUE of Age'",
                        "text/markdown": "'MEDIAN VALUE of Age'",
                        "text/html": "'MEDIAN VALUE of Age'"
                    },
                    "metadata": {}
                },
                {
                    "output_type": "display_data",
                    "data": {
                        "text/plain": "[1] 25",
                        "text/latex": "25",
                        "text/markdown": "25",
                        "text/html": "25"
                    },
                    "metadata": {}
                },
                {
                    "output_type": "display_data",
                    "data": {
                        "text/plain": "[1] \"MINIMUM VALUE of Age\"",
                        "text/latex": "'MINIMUM VALUE of Age'",
                        "text/markdown": "'MINIMUM VALUE of Age'",
                        "text/html": "'MINIMUM VALUE of Age'"
                    },
                    "metadata": {}
                },
                {
                    "output_type": "stream",
                    "text": "[1] 3\n",
                    "name": "stdout"
                },
                {
                    "output_type": "display_data",
                    "data": {
                        "text/plain": "[1] \"MAXIMUM VALUE of Age\"",
                        "text/latex": "'MAXIMUM VALUE of Age'",
                        "text/markdown": "'MAXIMUM VALUE of Age'",
                        "text/html": "'MAXIMUM VALUE of Age'"
                    },
                    "metadata": {}
                },
                {
                    "output_type": "stream",
                    "text": "[1] 87\n",
                    "name": "stdout"
                }
            ]
        },
        {
            "metadata": {},
            "cell_type": "markdown",
            "source": " - Bulletedlist1\n - Bulletedlist2 \n - Bulletedlist3\n <HR>horizontal rule <HR>\n 1. numbered list1\n 2. numbered list2\n 3. numbered list3\n    \n|ID |Name|Age|\n|:-----|:----:|----:|\n|1 |Adam |33 |\n|2 |Don |44 |\n    \n\n[Go to IBM HOME PAGE](http://ibm.com) \n\n<img src=\"https://orbograph.com/wp-content/uploads/2019/01/DeepLearn.png\" alt=\"Deep Learn\" title=\"Deep Learn\" />\n    \n<div class=\"alert alert-block alert-info\">\n<b>Tip:</b> Learn Data science, Tools, Techniques.\n</div>\n    \n~~DO NOT HACK ~~\n    \n> blockquote text\n    \n- [x] Jupyter\n- [ ] R-studio\n"
        },
        {
            "metadata": {},
            "cell_type": "code",
            "source": "",
            "execution_count": null,
            "outputs": []
        },
        {
            "metadata": {},
            "cell_type": "code",
            "source": "",
            "execution_count": null,
            "outputs": []
        }
    ],
    "metadata": {
        "kernelspec": {
            "name": "r",
            "display_name": "R 3.6 with Spark",
            "language": "R"
        },
        "language_info": {
            "mimetype": "text/x-r-source",
            "name": "R",
            "pygments_lexer": "r",
            "version": "3.6.3",
            "file_extension": ".r",
            "codemirror_mode": "r"
        }
    },
    "nbformat": 4,
    "nbformat_minor": 1
}