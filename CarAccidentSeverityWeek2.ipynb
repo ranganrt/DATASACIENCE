{
    "cells": [
        {
            "cell_type": "markdown",
            "metadata": {
                "collapsed": true
            },
            "source": " # Peer-graded Assignment: Capstone Project - Car accident severity (Week 2) RANGA\n"
        },
        {
            "cell_type": "markdown",
            "metadata": {},
            "source": "In this week, you will continue working on your capstone project. Please remember by the end of this week, you will need to submit the following:\n\nA full report consisting of all of the following components (15 marks):\nIntroduction where you discuss the business problem and who would be interested in this project.\nData where you describe the data that will be used to solve the problem and the source of the data.\nMethodology section which represents the main component of the report where you discuss and describe any exploratory data analysis that you did, any inferential statistical testing that you performed, if any, and what machine learnings were used and why.\nResults section where you discuss the results.\nDiscussion section where you discuss any observations you noted and any recommendations you can make based on the results.\nConclusion section where you conclude the report.\n2. A link to your Notebook on your Github repository pushed showing your code. (15 marks)\n\n3. Your choice of a presentation or blogpost. (10 marks)\n\nHere are examples of previous outstanding submissions that should give you an idea of what your report would look like, what your notebook would look like in terms of clean, clear, and well-commented code, and what your presentation would look like or your blogpost would look like:\n\nReport: https://cocl.us/coursera_capstone_report\nNotebook: https://cocl.us/coursera_capstone_notebook\nPresentation: https://cocl.us/coursera_capstone_presentation\nBlogpost: https://cocl.us/coursera_capstone_blogpost "
        },
        {
            "cell_type": "code",
            "execution_count": null,
            "metadata": {},
            "outputs": [],
            "source": ""
        },
        {
            "cell_type": "code",
            "execution_count": null,
            "metadata": {},
            "outputs": [],
            "source": ""
        },
        {
            "cell_type": "markdown",
            "metadata": {},
            "source": "Preprocessing\u00b6\nMake the data to be balanced\nSelect data to address the following questions:\nIs there any location correlated with large severity?\nwhat type of collision is the more dangerous?\nIs it more safe to ride a bike, drive a car, or walk?\nwhich time and which day would have more accidents? weekdays or weekends?\nwhich type of junction?\nwhat is the data type of my dataset?\nIs there any empty data? is there any null data? remove or guess?\nIs the data balance now?"
        },
        {
            "cell_type": "code",
            "execution_count": null,
            "metadata": {},
            "outputs": [],
            "source": "import numpy as np\nimport pandas as pd\n\nSeattle_AccidentData = pd.read_csv('https://s3.us.cloud-object-storage.appdomain.cloud/cf-courses-data/CognitiveClass/DP0701EN/version-2/Data-Collisions.csv')\n"
        },
        {
            "cell_type": "code",
            "execution_count": null,
            "metadata": {},
            "outputs": [],
            "source": "Seattle_AccidentData.head()\n    "
        },
        {
            "cell_type": "code",
            "execution_count": null,
            "metadata": {},
            "outputs": [],
            "source": "Seattle_AccidentData.info()\n    "
        },
        {
            "cell_type": "code",
            "execution_count": null,
            "metadata": {},
            "outputs": [],
            "source": "Car_Accidents = Seattle_AccidentData[['SEVERITYCODE','ADDRTYPE','WEATHER','SPEEDING','ROADCOND','VEHCOUNT','PERSONCOUNT']]\n"
        },
        {
            "cell_type": "code",
            "execution_count": null,
            "metadata": {},
            "outputs": [],
            "source": "Car_Accidents.info()\n"
        },
        {
            "cell_type": "code",
            "execution_count": null,
            "metadata": {},
            "outputs": [],
            "source": ""
        },
        {
            "cell_type": "markdown",
            "metadata": {},
            "source": "Data Preparation\n\nFor ease of use we will drop the columns we do not need from the dataset, i.e., columns that do not have values or where the values are unknown. We will drop Speeding entirely because it is missing over 180,000 values and we cannot predict or replace then. For Weather, Roadcond and Addrtype columns we will just drop the values where there is no information."
        },
        {
            "cell_type": "code",
            "execution_count": null,
            "metadata": {},
            "outputs": [],
            "source": "Car_Accidents['SPEEDING'].value_counts()\n    "
        },
        {
            "cell_type": "code",
            "execution_count": null,
            "metadata": {},
            "outputs": [],
            "source": "Car_Accidents.drop('SPEEDING', axis = 1, inplace = True)\n"
        },
        {
            "cell_type": "code",
            "execution_count": null,
            "metadata": {},
            "outputs": [],
            "source": " "
        },
        {
            "cell_type": "code",
            "execution_count": null,
            "metadata": {},
            "outputs": [],
            "source": "Car_Accidents = Car_Accidents[~Car_Accidents['WEATHER'].isnull()]\nCar_Accidents = Car_Accidents[~Car_Accidents['ROADCOND'].isnull()]\nCar_Accidents = Car_Accidents[~Car_Accidents['ADDRTYPE'].isnull()]"
        },
        {
            "cell_type": "code",
            "execution_count": null,
            "metadata": {},
            "outputs": [],
            "source": "Car_Accidents.head()"
        },
        {
            "cell_type": "code",
            "execution_count": null,
            "metadata": {},
            "outputs": [],
            "source": "Car_Accidents.info()\n"
        },
        {
            "cell_type": "code",
            "execution_count": null,
            "metadata": {},
            "outputs": [],
            "source": "Car_Accidents['WEATHER'].value_counts()\n"
        },
        {
            "cell_type": "code",
            "execution_count": null,
            "metadata": {},
            "outputs": [],
            "source": ""
        },
        {
            "cell_type": "code",
            "execution_count": null,
            "metadata": {},
            "outputs": [],
            "source": ""
        },
        {
            "cell_type": "code",
            "execution_count": null,
            "metadata": {},
            "outputs": [],
            "source": "Car_Accidents['ADDRTYPE'].value_counts()\n"
        },
        {
            "cell_type": "code",
            "execution_count": null,
            "metadata": {},
            "outputs": [],
            "source": "Car_Accidents['ROADCOND'].value_counts()\n"
        },
        {
            "cell_type": "markdown",
            "metadata": {},
            "source": "We notice some unknown data type in WEATHER and ROADCOND columns, so there is still some cleaning of the data to do.\n\n"
        },
        {
            "cell_type": "code",
            "execution_count": null,
            "metadata": {},
            "outputs": [],
            "source": "Car_Accidents = Car_Accidents[Car_Accidents['ROADCOND'] != 'Unknown']\nCar_Accidents = Car_Accidents[Car_Accidents['WEATHER'] != 'Unknown']"
        },
        {
            "cell_type": "code",
            "execution_count": null,
            "metadata": {},
            "outputs": [],
            "source": "Car_Accidents.info()\n"
        },
        {
            "cell_type": "code",
            "execution_count": null,
            "metadata": {},
            "outputs": [],
            "source": "Car_Accidents.head()"
        },
        {
            "cell_type": "markdown",
            "metadata": {},
            "source": "#### The above report confirms that the data is now ready for use and we can begin our analysis\n\n"
        },
        {
            "cell_type": "code",
            "execution_count": null,
            "metadata": {},
            "outputs": [],
            "source": ""
        },
        {
            "cell_type": "code",
            "execution_count": null,
            "metadata": {},
            "outputs": [],
            "source": "import matplotlib.pyplot as plt\nimport seaborn as sns"
        },
        {
            "cell_type": "code",
            "execution_count": null,
            "metadata": {},
            "outputs": [],
            "source": ""
        },
        {
            "cell_type": "code",
            "execution_count": null,
            "metadata": {},
            "outputs": [],
            "source": "Car_Accidents = pd.concat([Car_Accidents,pd.get_dummies(Car_Accidents['ADDRTYPE'])], axis=1)\nCar_Accidents = pd.concat([Car_Accidents,pd.get_dummies(Car_Accidents['WEATHER'])], axis=1)\nCar_Accidents = pd.concat([Car_Accidents,pd.get_dummies(Car_Accidents['ROADCOND'])], axis=1)"
        },
        {
            "cell_type": "code",
            "execution_count": null,
            "metadata": {},
            "outputs": [],
            "source": "#Car_Accidents.drop(['ADDRTYPE','WEATHER','ROADCOND'],axis=1,inplace = True)\n"
        },
        {
            "cell_type": "code",
            "execution_count": null,
            "metadata": {},
            "outputs": [],
            "source": "Car_Accidents.head()                                                                                        "
        },
        {
            "cell_type": "code",
            "execution_count": null,
            "metadata": {},
            "outputs": [],
            "source": "Car_Accidents_X = Car_Accidents.drop('SEVERITYCODE',axis=1)\nCar_Accidents_Y = Car_Accidents['SEVERITYCODE'].values"
        },
        {
            "cell_type": "code",
            "execution_count": null,
            "metadata": {},
            "outputs": [],
            "source": "Car_Accidents_X.head()                                                                                        "
        },
        {
            "cell_type": "code",
            "execution_count": null,
            "metadata": {},
            "outputs": [],
            "source": "Car_Accidents_Y "
        },
        {
            "cell_type": "code",
            "execution_count": null,
            "metadata": {},
            "outputs": [],
            "source": "import matplotlib as mpl\n \ndef demo(sty):\n    mpl.style.use(sty)\n    \ndemo('seaborn')"
        },
        {
            "cell_type": "code",
            "execution_count": null,
            "metadata": {},
            "outputs": [],
            "source": "plt.hist(Car_Accidents.VEHCOUNT)\nplt.xlabel('# of Vehicles')\nplt.ylabel('# of Accidents')\nplt.title('Number of Vehicles Involved in Accidents')\n "
        },
        {
            "cell_type": "code",
            "execution_count": null,
            "metadata": {},
            "outputs": [],
            "source": "Car_Accidents.VEHCOUNT.value_counts()\n"
        },
        {
            "cell_type": "code",
            "execution_count": null,
            "metadata": {},
            "outputs": [],
            "source": "bins = np.arange(Car_Accidents.PERSONCOUNT.min(), 8, 1)\nplt.hist(Car_Accidents.VEHCOUNT,bins = bins)\nplt.xlabel('# Vehicles')\nplt.ylabel('# Accidents')\nplt.title('Number of Vehicles involved in Accidents')"
        },
        {
            "cell_type": "code",
            "execution_count": null,
            "metadata": {},
            "outputs": [],
            "source": "plt.hist(Car_Accidents.PERSONCOUNT)\nplt.xlabel('No of Persons')\nplt.ylabel('No of Accidents')\nplt.title('No of people in Accidents')"
        },
        {
            "cell_type": "code",
            "execution_count": null,
            "metadata": {},
            "outputs": [],
            "source": "Car_Accidents.PERSONCOUNT.value_counts()\n"
        },
        {
            "cell_type": "code",
            "execution_count": null,
            "metadata": {},
            "outputs": [],
            "source": "bins = np.arange(Car_Accidents.PERSONCOUNT.min(), 17, 2)\nplt.hist(Car_Accidents.PERSONCOUNT,bins = bins)\nplt.xlabel('No of Persons')\nplt.ylabel('No of Accidents')\nplt.title('No of people in Accidents')"
        },
        {
            "cell_type": "code",
            "execution_count": null,
            "metadata": {},
            "outputs": [],
            "source": "bins\nCar_Accidents.head()                                                                                        \n"
        },
        {
            "cell_type": "code",
            "execution_count": null,
            "metadata": {},
            "outputs": [],
            "source": "X = Car_Accidents.ADDRTYPE.unique()\nData = Car_Accidents.ADDRTYPE.value_counts()\nplt.bar(X,height=Data)\nplt.xlabel('Location')\nplt.ylabel('No of Accidents')\nplt.title('No of Accidents in relation to the location')"
        },
        {
            "cell_type": "code",
            "execution_count": null,
            "metadata": {},
            "outputs": [],
            "source": ""
        },
        {
            "cell_type": "code",
            "execution_count": null,
            "metadata": {},
            "outputs": [],
            "source": "\nX = Car_Accidents.WEATHER.unique()\nData = Car_Accidents.WEATHER.value_counts()\nplt.bar(X,height=Data)\nplt.xlabel('Weather')\nplt.ylabel('No of Accidents')\nplt.title('No of Accidents based on Weather')\nplt.xticks(rotation = 90)"
        },
        {
            "cell_type": "code",
            "execution_count": null,
            "metadata": {},
            "outputs": [],
            "source": "X = Car_Accidents.ROADCOND.unique()\nData = Car_Accidents.ROADCOND.value_counts()\nplt.bar(X,height=Data)\nplt.xlabel('Road Condition')\nplt.ylabel('No of Accidents')\nplt.title('No of Accidents based on Road Conditions')\nplt.xticks(rotation = 90)"
        },
        {
            "cell_type": "code",
            "execution_count": null,
            "metadata": {},
            "outputs": [],
            "source": ""
        },
        {
            "cell_type": "code",
            "execution_count": null,
            "metadata": {},
            "outputs": [],
            "source": "\nbins = np.linspace(Car_Accidents.VEHCOUNT.min(), 8, 10)\ng = sns.FacetGrid(Car_Accidents, col=\"ADDRTYPE\", hue=\"SEVERITYCODE\", palette=\"Set2\", col_wrap=3)\ng.map(plt.hist, 'VEHCOUNT', bins=bins ,ec=\"k\")\ng.axes[-1].legend(title=\"Severity level\")\nplt.show()"
        },
        {
            "cell_type": "code",
            "execution_count": null,
            "metadata": {},
            "outputs": [],
            "source": ""
        },
        {
            "cell_type": "code",
            "execution_count": null,
            "metadata": {},
            "outputs": [],
            "source": "bins = np.linspace(Car_Accidents.PERSONCOUNT.min(), 12, 10)\ng = sns.FacetGrid(Car_Accidents, col=\"ADDRTYPE\", hue=\"SEVERITYCODE\", palette=\"Set3\", col_wrap=3)\ng.map(plt.hist, 'PERSONCOUNT', bins=bins ,ec=\"k\")\ng.axes[-1].legend(title=\"Severity level\")\nplt.show()"
        },
        {
            "cell_type": "markdown",
            "metadata": {},
            "source": "Here we see that most severe accidents occur on intersections with 2-3 people.\n\n"
        },
        {
            "cell_type": "code",
            "execution_count": null,
            "metadata": {},
            "outputs": [],
            "source": ""
        },
        {
            "cell_type": "markdown",
            "metadata": {},
            "source": "# PREDICTION\n"
        },
        {
            "cell_type": "code",
            "execution_count": null,
            "metadata": {},
            "outputs": [],
            "source": "Seattle_AccidentData.describe()\n"
        },
        {
            "cell_type": "code",
            "execution_count": null,
            "metadata": {},
            "outputs": [],
            "source": "cdf = Seattle_AccidentData[['ADDRTYPE','COLLISIONTYPE','SEVERITYCODE','PERSONCOUNT','PEDCOUNT','PEDCYLCOUNT','VEHCOUNT','JUNCTIONTYPE','UNDERINFL','WEATHER','ROADCOND','LIGHTCOND','SEGLANEKEY','CROSSWALKKEY','HITPARKEDCAR']]\ncdf.head(5)"
        },
        {
            "cell_type": "code",
            "execution_count": null,
            "metadata": {},
            "outputs": [],
            "source": "\n#There are some blank fields under some of the features. We will assign null values to these fields.\n\ncdf[\"ADDRTYPE\"].fillna(\"No Address\", inplace = True)\ncdf[\"COLLISIONTYPE\"].fillna(\"NA\", inplace = True)\ncdf[\"JUNCTIONTYPE\"].fillna(\"Unknown\", inplace = True)\n\ncdf.head()"
        },
        {
            "cell_type": "code",
            "execution_count": null,
            "metadata": {},
            "outputs": [],
            "source": "chart = cdf[['ADDRTYPE','COLLISIONTYPE','SEVERITYCODE','PERSONCOUNT','PEDCOUNT','PEDCYLCOUNT','VEHCOUNT','JUNCTIONTYPE','UNDERINFL','WEATHER','ROADCOND','LIGHTCOND','HITPARKEDCAR']]\nchart.hist()\nplt.show()"
        },
        {
            "cell_type": "code",
            "execution_count": null,
            "metadata": {},
            "outputs": [],
            "source": ""
        },
        {
            "cell_type": "code",
            "execution_count": null,
            "metadata": {},
            "outputs": [],
            "source": "X = cdf[['ADDRTYPE','COLLISIONTYPE','JUNCTIONTYPE','PERSONCOUNT','PEDCOUNT','PEDCYLCOUNT','VEHCOUNT','SEGLANEKEY','CROSSWALKKEY','HITPARKEDCAR']].values\nX[0:5]"
        },
        {
            "cell_type": "code",
            "execution_count": null,
            "metadata": {},
            "outputs": [],
            "source": "X"
        },
        {
            "cell_type": "code",
            "execution_count": null,
            "metadata": {},
            "outputs": [],
            "source": "import scipy.optimize as opt\nfrom sklearn import preprocessing\n%matplotlib inline \nimport matplotlib.pyplot as plt"
        },
        {
            "cell_type": "code",
            "execution_count": null,
            "metadata": {},
            "outputs": [],
            "source": "le_addrtype = preprocessing.LabelEncoder()\nle_addrtype.fit(['Alley','Block','Intersection','No Address'])\nX[:,0] = le_addrtype.transform(X[:,0]) \n\nle_collisiontype = preprocessing.LabelEncoder()\nle_collisiontype.fit(['Angles','Cycles','Head On','Left Turn','Other','Parked Car','Pedestrian','Rear Ended','Right Turn','Sideswipe','NA'])\nX[:,1] = le_collisiontype.transform(X[:,1]) \n\nle_junctiontype = preprocessing.LabelEncoder()\nle_junctiontype.fit(['At Intersection (but not related to intersection)','At Intersection (intersection related)','Driveway Junction','Mid-Block (but intersection related)','Mid-Block (not related to intersection)','Ramp Junction','Unknown'])\nX[:,2] = le_junctiontype.transform(X[:,2]) \n\nle_hitparkedcar = preprocessing.LabelEncoder()\nle_hitparkedcar.fit(['Y','N'])\nX[:,9] = le_hitparkedcar.transform(X[:,9]) \n\nX[0:5]"
        },
        {
            "cell_type": "code",
            "execution_count": null,
            "metadata": {},
            "outputs": [],
            "source": "Y = cdf[['SEVERITYCODE']].values\nY[0:5]"
        },
        {
            "cell_type": "markdown",
            "metadata": {},
            "source": "Normalize data\nData standardization give data zero mean and unit variance."
        },
        {
            "cell_type": "code",
            "execution_count": null,
            "metadata": {},
            "outputs": [],
            "source": "X = preprocessing.StandardScaler().fit(X).transform(X.astype(float))\nX[0:5]"
        },
        {
            "cell_type": "markdown",
            "metadata": {},
            "source": "\nK Nearest Neighbour Model\nTrain test split\nWe will now split the dataset into training and test datasets for the k nearest neighbour model."
        },
        {
            "cell_type": "code",
            "execution_count": null,
            "metadata": {},
            "outputs": [],
            "source": "from sklearn.model_selection import train_test_split\nX_train_knn, X_test_knn, y_train_knn, y_test_knn = train_test_split( X, Y, test_size=0.2, random_state=4)\nprint ('Train set:', X_train_knn.shape,  y_train_knn.shape)\nprint ('Test set:', X_test_knn.shape,  y_test_knn.shape)"
        },
        {
            "cell_type": "code",
            "execution_count": null,
            "metadata": {},
            "outputs": [],
            "source": "from sklearn.neighbors import KNeighborsClassifier\n"
        },
        {
            "cell_type": "markdown",
            "metadata": {},
            "source": "TRAINING"
        },
        {
            "cell_type": "code",
            "execution_count": null,
            "metadata": {},
            "outputs": [],
            "source": "k = 4\n#Train Model and Predict  \nneigh = KNeighborsClassifier(n_neighbors = k).fit(X_train_knn,np.ravel(y_train_knn,order='C'))\nneigh"
        },
        {
            "cell_type": "code",
            "execution_count": null,
            "metadata": {},
            "outputs": [],
            "source": ""
        },
        {
            "cell_type": "markdown",
            "metadata": {},
            "source": "Predicting\nWe can use the model to predict the test set:\n "
        },
        {
            "cell_type": "code",
            "execution_count": null,
            "metadata": {},
            "outputs": [],
            "source": "\nyhat = neigh.predict(X_test_knn)\nyhat[0:5]"
        },
        {
            "cell_type": "code",
            "execution_count": null,
            "metadata": {},
            "outputs": [],
            "source": ""
        },
        {
            "cell_type": "markdown",
            "metadata": {},
            "source": "Accuracy evaluation\u00b6\n"
        },
        {
            "cell_type": "code",
            "execution_count": null,
            "metadata": {},
            "outputs": [],
            "source": "from sklearn import metrics\nprint(\"Train set Accuracy: \", metrics.accuracy_score(y_train_knn, neigh.predict(X_train_knn)))\nprint(\"Test set Accuracy: \", metrics.accuracy_score(y_test_knn, yhat))"
        },
        {
            "cell_type": "code",
            "execution_count": null,
            "metadata": {},
            "outputs": [],
            "source": ""
        },
        {
            "cell_type": "markdown",
            "metadata": {},
            "source": "Decision Tree Model\nTrain test split\nWe will now split the dataset into training and test datasets for the k nearest neighbour model."
        },
        {
            "cell_type": "code",
            "execution_count": null,
            "metadata": {},
            "outputs": [],
            "source": "X_train_tree, X_test_tree, y_train_tree, y_test_tree = train_test_split( X, Y, test_size=0.2, random_state=4)\nprint ('Train set:', X_train_tree.shape,  y_train_tree.shape)\nprint ('Test set:', X_test_tree.shape,  y_test_tree.shape)"
        },
        {
            "cell_type": "code",
            "execution_count": null,
            "metadata": {},
            "outputs": [],
            "source": "from sklearn.tree import DecisionTreeClassifier\nTree = DecisionTreeClassifier(criterion=\"entropy\", max_depth = 4)\nTree"
        },
        {
            "cell_type": "code",
            "execution_count": null,
            "metadata": {},
            "outputs": [],
            "source": "Tree.fit(X_train_tree,y_train_tree)\n"
        },
        {
            "cell_type": "markdown",
            "metadata": {},
            "source": "Prediction based on test dataset\n \n    "
        },
        {
            "cell_type": "code",
            "execution_count": null,
            "metadata": {},
            "outputs": [],
            "source": "predTree = Tree.predict(X_test_tree)"
        },
        {
            "cell_type": "markdown",
            "metadata": {},
            "source": "Accuracy evaluation\u00b6\n"
        },
        {
            "cell_type": "code",
            "execution_count": null,
            "metadata": {},
            "outputs": [],
            "source": "from sklearn import metrics\nimport matplotlib.pyplot as plt\nprint(\"DecisionTrees's Accuracy: \", metrics.accuracy_score(y_test_tree, predTree))"
        },
        {
            "cell_type": "code",
            "execution_count": null,
            "metadata": {},
            "outputs": [],
            "source": ""
        },
        {
            "cell_type": "code",
            "execution_count": null,
            "metadata": {},
            "outputs": [],
            "source": ""
        },
        {
            "cell_type": "code",
            "execution_count": null,
            "metadata": {},
            "outputs": [],
            "source": ""
        },
        {
            "cell_type": "code",
            "execution_count": null,
            "metadata": {},
            "outputs": [],
            "source": ""
        },
        {
            "cell_type": "markdown",
            "metadata": {},
            "source": "Discussion\n\nAt the start of our analysis we were trying to figure out the severity and frequency of road accidents based on weather conditions, road conditions and other factors. Even though our data was a good size, there were a number of missing elements and we needed to clean the data in order to get a good result. We had to drop 'SPEED' factor because there were too many missing elements but I think that is another big factor that should be considered.\n\nConclusion\n\nBased on our analysis we can clearly see that most severe accidents occur on intersection. Wet road conditions and overcast weather are big contributing factors. These findings can be helpful to the Seattle PD in enforcing some new measures to prevent future accidents."
        },
        {
            "cell_type": "code",
            "execution_count": null,
            "metadata": {},
            "outputs": [],
            "source": ""
        },
        {
            "cell_type": "code",
            "execution_count": null,
            "metadata": {},
            "outputs": [],
            "source": ""
        },
        {
            "cell_type": "code",
            "execution_count": null,
            "metadata": {},
            "outputs": [],
            "source": ""
        }
    ],
    "metadata": {
        "kernelspec": {
            "display_name": "Python 3.6",
            "language": "python",
            "name": "python3"
        },
        "language_info": {
            "codemirror_mode": {
                "name": "ipython",
                "version": 3
            },
            "file_extension": ".py",
            "mimetype": "text/x-python",
            "name": "python",
            "nbconvert_exporter": "python",
            "pygments_lexer": "ipython3",
            "version": "3.6.9"
        }
    },
    "nbformat": 4,
    "nbformat_minor": 1
}